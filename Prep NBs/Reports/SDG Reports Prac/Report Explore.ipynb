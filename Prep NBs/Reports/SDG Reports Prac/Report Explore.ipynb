{
 "cells": [
  {
   "cell_type": "markdown",
   "metadata": {},
   "source": [
    "# Country Profiles Goals - Reports \n",
    "\n",
    "This notebook outlines how the two page reports we generate could be created using python. \n",
    "\n",
    "The process relies primarily on two different packages: \n",
    "\n",
    "1. Bokeh for visualization \n",
    "2. ReportLab for generate the pdf report\n",
    "\n",
    "Both packages are free and available with a reasonably sized community to answer requests and questions. \n",
    "\n",
    "#### Import packages "
   ]
  },
  {
   "cell_type": "code",
   "execution_count": 1,
   "metadata": {},
   "outputs": [
    {
     "name": "stderr",
     "output_type": "stream",
     "text": [
      "/home/lightner/miniconda3/lib/python3.6/importlib/_bootstrap.py:219: RuntimeWarning: numpy.dtype size changed, may indicate binary incompatibility. Expected 96, got 88\n",
      "  return f(*args, **kwds)\n"
     ]
    }
   ],
   "source": [
    "# libraries\n",
    "import matplotlib.pyplot as plt\n",
    "import numpy as np\n",
    "import pandas as pd\n",
    "\n",
    "## report lab\n",
    "from reportlab.pdfgen import canvas\n",
    "from reportlab.pdfgen.canvas import Canvas\n",
    "from reportlab.lib.utils import ImageReader\n",
    "\n",
    "from reportlab.pdfbase import pdfmetrics\n",
    "from reportlab.pdfbase.ttfonts import TTFont\n",
    "\n",
    "import sys\n",
    "# import pyADVISE \n",
    "sys.path.append('/home/lightner/Documents/DevTech/Shared/')\n",
    "from pyADVISE.report import inch, table, split, USAID_header\n",
    "from pyADVISE import palettes"
   ]
  },
  {
   "cell_type": "markdown",
   "metadata": {},
   "source": [
    "### Generate practice table\n",
    "\n",
    "Here we generate practice tables for both the text and visuals.\n",
    "\n",
    "#### Table DataFrames "
   ]
  },
  {
   "cell_type": "code",
   "execution_count": 2,
   "metadata": {},
   "outputs": [],
   "source": [
    "dictionary  = {#'country': ['Malawi']*7, \n",
    "              'variable': ['ID0']*7, \n",
    "              'row1': ['3,456']*4+['value1 value1']*3, \n",
    "              'year1':['year', 'year', 'year', 'year', '', '', ''], \n",
    "              'row2': ['value2']*4 +['']*3, \n",
    "              'year2': ['year2']*4+['']*3}\n",
    "\n",
    "table_df = pd.DataFrame(dictionary) \n",
    "\n",
    "#define the order\n",
    "table_df= table_df[['variable', 'row1', 'year1', 'row2', 'year2']]\n",
    "# generate different sized tables based on table_df\n",
    "df2 = table_df[['variable', 'row1']]\n",
    "df3 = table_df.iloc[0:4,0:2]\n"
   ]
  },
  {
   "cell_type": "code",
   "execution_count": 3,
   "metadata": {},
   "outputs": [
    {
     "data": {
      "text/html": [
       "<div>\n",
       "<style scoped>\n",
       "    .dataframe tbody tr th:only-of-type {\n",
       "        vertical-align: middle;\n",
       "    }\n",
       "\n",
       "    .dataframe tbody tr th {\n",
       "        vertical-align: top;\n",
       "    }\n",
       "\n",
       "    .dataframe thead th {\n",
       "        text-align: right;\n",
       "    }\n",
       "</style>\n",
       "<table border=\"1\" class=\"dataframe\">\n",
       "  <thead>\n",
       "    <tr style=\"text-align: right;\">\n",
       "      <th></th>\n",
       "      <th>variable</th>\n",
       "      <th>row1</th>\n",
       "      <th>year1</th>\n",
       "      <th>row2</th>\n",
       "      <th>year2</th>\n",
       "    </tr>\n",
       "  </thead>\n",
       "  <tbody>\n",
       "    <tr>\n",
       "      <th>0</th>\n",
       "      <td>ID0</td>\n",
       "      <td>3,456</td>\n",
       "      <td>year</td>\n",
       "      <td>value2</td>\n",
       "      <td>year2</td>\n",
       "    </tr>\n",
       "    <tr>\n",
       "      <th>1</th>\n",
       "      <td>ID0</td>\n",
       "      <td>3,456</td>\n",
       "      <td>year</td>\n",
       "      <td>value2</td>\n",
       "      <td>year2</td>\n",
       "    </tr>\n",
       "    <tr>\n",
       "      <th>2</th>\n",
       "      <td>ID0</td>\n",
       "      <td>3,456</td>\n",
       "      <td>year</td>\n",
       "      <td>value2</td>\n",
       "      <td>year2</td>\n",
       "    </tr>\n",
       "    <tr>\n",
       "      <th>3</th>\n",
       "      <td>ID0</td>\n",
       "      <td>3,456</td>\n",
       "      <td>year</td>\n",
       "      <td>value2</td>\n",
       "      <td>year2</td>\n",
       "    </tr>\n",
       "    <tr>\n",
       "      <th>4</th>\n",
       "      <td>ID0</td>\n",
       "      <td>value1 value1</td>\n",
       "      <td></td>\n",
       "      <td></td>\n",
       "      <td></td>\n",
       "    </tr>\n",
       "    <tr>\n",
       "      <th>5</th>\n",
       "      <td>ID0</td>\n",
       "      <td>value1 value1</td>\n",
       "      <td></td>\n",
       "      <td></td>\n",
       "      <td></td>\n",
       "    </tr>\n",
       "    <tr>\n",
       "      <th>6</th>\n",
       "      <td>ID0</td>\n",
       "      <td>value1 value1</td>\n",
       "      <td></td>\n",
       "      <td></td>\n",
       "      <td></td>\n",
       "    </tr>\n",
       "  </tbody>\n",
       "</table>\n",
       "</div>"
      ],
      "text/plain": [
       "  variable           row1 year1    row2  year2\n",
       "0      ID0          3,456  year  value2  year2\n",
       "1      ID0          3,456  year  value2  year2\n",
       "2      ID0          3,456  year  value2  year2\n",
       "3      ID0          3,456  year  value2  year2\n",
       "4      ID0  value1 value1                     \n",
       "5      ID0  value1 value1                     \n",
       "6      ID0  value1 value1                     "
      ]
     },
     "execution_count": 3,
     "metadata": {},
     "output_type": "execute_result"
    }
   ],
   "source": [
    "table_df#; df2"
   ]
  },
  {
   "cell_type": "markdown",
   "metadata": {},
   "source": [
    "#### Visual Data"
   ]
  },
  {
   "cell_type": "code",
   "execution_count": 4,
   "metadata": {},
   "outputs": [
    {
     "data": {
      "text/html": [
       "<div>\n",
       "<style scoped>\n",
       "    .dataframe tbody tr th:only-of-type {\n",
       "        vertical-align: middle;\n",
       "    }\n",
       "\n",
       "    .dataframe tbody tr th {\n",
       "        vertical-align: top;\n",
       "    }\n",
       "\n",
       "    .dataframe thead th {\n",
       "        text-align: right;\n",
       "    }\n",
       "</style>\n",
       "<table border=\"1\" class=\"dataframe\">\n",
       "  <thead>\n",
       "    <tr style=\"text-align: right;\">\n",
       "      <th></th>\n",
       "      <th>series_name</th>\n",
       "      <th>country_id</th>\n",
       "      <th>value_start</th>\n",
       "      <th>year</th>\n",
       "    </tr>\n",
       "  </thead>\n",
       "  <tbody>\n",
       "    <tr>\n",
       "      <th>0</th>\n",
       "      <td>Health</td>\n",
       "      <td>0</td>\n",
       "      <td>100</td>\n",
       "      <td>2017</td>\n",
       "    </tr>\n",
       "    <tr>\n",
       "      <th>1</th>\n",
       "      <td>Education</td>\n",
       "      <td>0</td>\n",
       "      <td>140</td>\n",
       "      <td>2017</td>\n",
       "    </tr>\n",
       "    <tr>\n",
       "      <th>2</th>\n",
       "      <td>Gender</td>\n",
       "      <td>0</td>\n",
       "      <td>350</td>\n",
       "      <td>2017</td>\n",
       "    </tr>\n",
       "    <tr>\n",
       "      <th>3</th>\n",
       "      <td>Macro</td>\n",
       "      <td>0</td>\n",
       "      <td>400</td>\n",
       "      <td>2017</td>\n",
       "    </tr>\n",
       "    <tr>\n",
       "      <th>4</th>\n",
       "      <td>Finance</td>\n",
       "      <td>0</td>\n",
       "      <td>203</td>\n",
       "      <td>2017</td>\n",
       "    </tr>\n",
       "  </tbody>\n",
       "</table>\n",
       "</div>"
      ],
      "text/plain": [
       "  series_name  country_id  value_start  year\n",
       "0      Health           0          100  2017\n",
       "1   Education           0          140  2017\n",
       "2      Gender           0          350  2017\n",
       "3       Macro           0          400  2017\n",
       "4     Finance           0          203  2017"
      ]
     },
     "execution_count": 4,
     "metadata": {},
     "output_type": "execute_result"
    }
   ],
   "source": [
    "text = ['Health', 'Education', 'Gender', 'Macro', 'Finance', 'PSD', 'Conflict', 'Taxation', 'Democracy']\n",
    "# example factor:\n",
    "f1 = np.array([100, 140, 350, 400, 203, 504, 605, 304, 405])\n",
    "f2 = np.array([60, 530, 540, 330, 200, 406, 709, 403, 509])\n",
    "f3 = np.array([700, 400, 400, 600 , 320, 670, 302, 609, 304])\n",
    "\n",
    "\n",
    "# data frame \n",
    "df = pd.DataFrame({'text': text, 'f1': f1, 'f2': f2, 'f3': f3})\n",
    "\n",
    "\n",
    "def wide_to_long(df, cat_var, value_vars):\n",
    "    ''' generate the dataset in ESDB long format.'''\n",
    "    # reorder the dataframe is necessary for the rename code to work properly \n",
    "    # the wide to long function needs a common begining to each column to be shifted\n",
    "    \n",
    "    \n",
    "    df = df[[cat_var] + value_vars]\n",
    "    \n",
    "    # rename columns \n",
    "    df.columns = [cat_var] + ['f'+str(f) for f in range(0, len(df.columns[1:]))]\n",
    "    \n",
    "    # move from wide to long format\n",
    "    l = pd.wide_to_long(df, stubnames='f', i=[cat_var], j='var').reset_index()  \n",
    "    \n",
    "    return l\n",
    "\n",
    "df_plot = wide_to_long(df, 'text', ['f1', 'f2', 'f3'])\n",
    "\n",
    "df_plot.columns = ['series_name', 'country_id', 'value_start']\n",
    "df_plot['year'] = '2017'\n",
    "df_plot.head()"
   ]
  },
  {
   "cell_type": "code",
   "execution_count": 5,
   "metadata": {},
   "outputs": [],
   "source": [
    "from pyADVISE.visualize import gen_grouped_bar\n",
    "from bokeh.io import show\n",
    "from bokeh.io import export_png\n"
   ]
  },
  {
   "cell_type": "code",
   "execution_count": 6,
   "metadata": {},
   "outputs": [],
   "source": [
    "# selection of categories \n",
    "category_selection = ['Conflict', 'Democracy', 'Education', 'Finance', 'Gender',\n",
    "       'Health', 'Macro', 'PSD', 'Taxation']\n",
    "# selection country \n",
    "indicator_selection = [0,1,2]"
   ]
  },
  {
   "cell_type": "markdown",
   "metadata": {},
   "source": [
    "### Import Font"
   ]
  },
  {
   "cell_type": "code",
   "execution_count": 10,
   "metadata": {},
   "outputs": [],
   "source": [
    "font_file = '/home/lightner/fonts/Open_Sans/'\n",
    "\n",
    "# generate font\n",
    "files = ['OpenSans-Bold.ttf', 'OpenSans-BoldItalic.ttf', 'OpenSans-ExtraBoldItalic.ttf', \n",
    "         'OpenSans-ExtraBold.ttf', 'OpenSans-Italic.ttf', 'OpenSans-Light.ttf', \n",
    "         'OpenSans-Light.ttf', 'OpenSans-LightItalic.ttf', 'OpenSans-Regular.ttf',\n",
    "          'OpenSans-SemiBold.ttf', 'OpenSans-SemiBoldItalic.ttf']\n",
    "\n",
    "# generate names by take off the .ttf\n",
    "names = [i[:-4] for i in files]\n",
    "\n",
    "\n",
    "for i in range(0, len(files)): \n",
    "    pdfmetrics.registerFont(TTFont(names[i], font_file+files[i]))\n",
    "    "
   ]
  },
  {
   "cell_type": "markdown",
   "metadata": {},
   "source": [
    "### Color Scheme"
   ]
  },
  {
   "cell_type": "code",
   "execution_count": 11,
   "metadata": {},
   "outputs": [
    {
     "data": {
      "text/plain": [
       "{'USAID Blue': '#002F6C',\n",
       " 'USAID Red': '#BA0C2F',\n",
       " 'Rich Black': '#212721',\n",
       " 'Medium Blue': '#0067B9',\n",
       " 'Light Blue': '#A7C6ED',\n",
       " 'Dark Red': '#651D32',\n",
       " 'Dark Gray': '#6C6463',\n",
       " 'Medium Gray': '#8C8985',\n",
       " 'Light Gray': '#CFCDC9',\n",
       " 'White': 'white'}"
      ]
     },
     "execution_count": 11,
     "metadata": {},
     "output_type": "execute_result"
    }
   ],
   "source": [
    "palette = palettes.USAID_general()\n",
    "palette"
   ]
  },
  {
   "cell_type": "markdown",
   "metadata": {},
   "source": [
    "### Functions to generate the tables "
   ]
  },
  {
   "cell_type": "code",
   "execution_count": 26,
   "metadata": {},
   "outputs": [],
   "source": [
    "\n",
    "def build_report(df, country='Malawi', date='July 2018'): \n",
    "    \n",
    "    # create the canvas to place the pdf\n",
    "    c = canvas.Canvas('./CP PDFs/'+country+\".pdf\")\n",
    "    \n",
    "    # set basics of an A4 for dimention reference and the margin choice \n",
    "    margin = 0.55\n",
    "    height = 11.69\n",
    "    width = 8.27\n",
    "    \n",
    "    # gap between columns \n",
    "    gap = 0.5\n",
    "    column_w = (width-gap)/2\n",
    "    \n",
    "    # Number of characters for the line breaks in wrap for tables \n",
    "    split_num = 8\n",
    "    \n",
    "    #######################\n",
    "    ######   Header \n",
    "    #######################\n",
    "    \n",
    "    c = USAID_header(c=c, country=country, date=date, height=height, margin=margin,\n",
    "                    column_w=column_w, width=width, gap=gap)\n",
    "    \n",
    "\n",
    "    \n",
    "    #################################\n",
    "    #### generate tables \n",
    "    #################################\n",
    "    \n",
    "    #table 1 line_width, column_w,\n",
    "    c, end_table1 = table(c=c, df=df, line_width=1.0, column_w=column_w, split_num=split_num,\n",
    "                          second_line=True, height=height, margin=margin,\n",
    "                        width=width, gap=gap, table_title = 'People',)\n",
    "    \n",
    "    \n",
    "    # table 2\n",
    "    start_table2 = (end_table1-inch(.8))/72\n",
    "    c, end_table2 = table(c, df2, line_width=1.0, column_w=column_w, split_num=split_num,\n",
    "                          second_line=False, height=height, margin=margin,\n",
    "                        width=width, gap=gap, \n",
    "                          table_ystart = start_table2,\n",
    "                       table_title = 'Government')\n",
    "    \n",
    "    \n",
    "    #table 3\n",
    "    start_table3 = (end_table2-inch(.8))/72\n",
    "    c, end_table3 = table(c, df3,line_width=1.0, column_w=column_w, split_num=split_num,\n",
    "                          second_line=False, height=height, margin=margin,\n",
    "                        width=width, gap=gap ,\n",
    "                       table_ystart = start_table3, table_title='Official Development Assistance')\n",
    "      \n",
    "    \n",
    "    \n",
    "    \n",
    "    \n",
    "    #################################\n",
    "    ###  Add image \n",
    "    #################################\n",
    "    \n",
    "    title_plot='Title Bar Chart: '+country\n",
    "    \n",
    "    #### this is where we will build our bokeh images \n",
    "    # generatae the plot\n",
    "    p = gen_grouped_bar(df_plot, cat_var_member=category_selection, \n",
    "               cat_var_group=indicator_selection, plot_dim=(1700, 4000), fill_alpha=1, \n",
    "                       title_text=title_plot)\n",
    "    \n",
    "    image1 = './Images/'+country+\"_plot1.png\"\n",
    "    export_png(p, filename=image1)\n",
    "    ### save them to a particular link \n",
    "\n",
    "    filename2 = './bokeh_plot(2).png'\n",
    "    #c.drawImage(filename, 330, 0, width=250, height=250) \n",
    "    \n",
    "    \n",
    "    # then repeat\n",
    "    \n",
    "    c.drawImage(image1, 330, 160, width=250, height=106) \n",
    "    \n",
    "    \n",
    "    c.drawImage(filename2, 330, 410, width=250, height=250) \n",
    "    \n",
    "    \n",
    "    c.drawImage('./usaid3.png', inch(.05), 0, width=150, height=110) \n",
    "    \n",
    "    \n",
    "    ###################################\n",
    "    #### Testing colors \n",
    "    ####################################\n",
    "    '''\n",
    "    # it is not sure whether the colors make the multiple transitions well, we see here \n",
    "    # grey box \n",
    "    c.setFillColor(palette['USAID Blue']) \n",
    "    c.setStrokeColor(palette['USAID Blue'])    \n",
    "    c.rect(300, 150, 100, inch(.6), fill=1)\n",
    "    '''\n",
    "    ####################################\n",
    "    #######   Footer\n",
    "    ####################################\n",
    "    \n",
    "    c = USAID_footer_text(c)\n",
    "    \n",
    "    \n",
    "    c.save()"
   ]
  },
  {
   "cell_type": "code",
   "execution_count": 27,
   "metadata": {},
   "outputs": [
    {
     "name": "stdout",
     "output_type": "stream",
     "text": [
      "6.852000000000003\n",
      "3.7140000000000026\n",
      "1.7940000000000025\n"
     ]
    }
   ],
   "source": [
    "build_report(table_df, country='Fire1')    "
   ]
  },
  {
   "cell_type": "markdown",
   "metadata": {},
   "source": [
    "## Practice with loop"
   ]
  },
  {
   "cell_type": "code",
   "execution_count": 28,
   "metadata": {},
   "outputs": [],
   "source": [
    "country_list = ['China', 'Mexico', 'Tanzania']"
   ]
  },
  {
   "cell_type": "code",
   "execution_count": 29,
   "metadata": {},
   "outputs": [
    {
     "name": "stdout",
     "output_type": "stream",
     "text": [
      "6.852000000000003\n",
      "3.7140000000000026\n",
      "1.7940000000000025\n",
      "6.852000000000003\n",
      "3.7140000000000026\n",
      "1.7940000000000025\n",
      "6.852000000000003\n",
      "3.7140000000000026\n",
      "1.7940000000000025\n"
     ]
    }
   ],
   "source": [
    "for i in country_list: \n",
    "    build_report(table_df, country=i)"
   ]
  }
 ],
 "metadata": {
  "kernelspec": {
   "display_name": "Python 3",
   "language": "python",
   "name": "python3"
  },
  "language_info": {
   "codemirror_mode": {
    "name": "ipython",
    "version": 3
   },
   "file_extension": ".py",
   "mimetype": "text/x-python",
   "name": "python",
   "nbconvert_exporter": "python",
   "pygments_lexer": "ipython3",
   "version": "3.6.5"
  }
 },
 "nbformat": 4,
 "nbformat_minor": 2
}
