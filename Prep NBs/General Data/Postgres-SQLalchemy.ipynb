{
 "cells": [
  {
   "cell_type": "markdown",
   "metadata": {
    "slideshow": {
     "slide_type": "slide"
    }
   },
   "source": [
    "# Example Postgres Queries to Pandas using SQLAlchemy "
   ]
  },
  {
   "cell_type": "code",
   "execution_count": 1,
   "metadata": {
    "slideshow": {
     "slide_type": "subslide"
    }
   },
   "outputs": [],
   "source": [
    "# Load packages \n",
    "import pandas as pd\n",
    "import numpy as np\n",
    "import sqlalchemy\n",
    "from sqlalchemy import Table, MetaData, select, and_, or_"
   ]
  },
  {
   "cell_type": "markdown",
   "metadata": {
    "slideshow": {
     "slide_type": "subslide"
    }
   },
   "source": [
    "### Define Connect function\n",
    "\n",
    "This is a general function which connects to  postgres database. \n",
    "\n",
    "*** IMPORTANT - run the connection.close() when finished. "
   ]
  },
  {
   "cell_type": "code",
   "execution_count": 2,
   "metadata": {
    "slideshow": {
     "slide_type": "subslide"
    }
   },
   "outputs": [],
   "source": [
    "# default=localhost - default port=5432\n",
    "def connect(user, password, db, host='localhost', port=5432):\n",
    "    '''Returns a connection and a metadata object'''\n",
    "    \n",
    "    # We connect with the help of the PostgreSQL URL\n",
    "    url = 'postgresql://{}:{}@{}:{}/{}'\n",
    "    url = url.format(user, password, host, port, db)\n",
    "\n",
    "    # The return value of create_engine() is our connection object\n",
    "    engine = sqlalchemy.create_engine(url, client_encoding='utf8')\n",
    "    \n",
    "    ## Connections \n",
    "    connection = engine.connect()\n",
    "    \n",
    "    # We then bind the connection to MetaData()\n",
    "    meta = sqlalchemy.MetaData(bind=engine, reflect=True)\n",
    "\n",
    "    return engine, connection, meta"
   ]
  },
  {
   "cell_type": "markdown",
   "metadata": {
    "slideshow": {
     "slide_type": "slide"
    }
   },
   "source": [
    "# Create Table in Dataset"
   ]
  },
  {
   "cell_type": "code",
   "execution_count": 3,
   "metadata": {
    "slideshow": {
     "slide_type": "subslide"
    }
   },
   "outputs": [],
   "source": [
    "c_db = pd.read_csv('./connect.csv')"
   ]
  },
  {
   "cell_type": "code",
   "execution_count": 4,
   "metadata": {
    "slideshow": {
     "slide_type": "subslide"
    }
   },
   "outputs": [],
   "source": [
    "user = c_db['user'].as_matrix()[0]\n",
    "password = c_db['password'].as_matrix()[0]\n",
    "db = c_db['database'].as_matrix()[0]\n",
    "# defualts are fine with me. "
   ]
  },
  {
   "cell_type": "code",
   "execution_count": 5,
   "metadata": {
    "slideshow": {
     "slide_type": "subslide"
    }
   },
   "outputs": [
    {
     "name": "stderr",
     "output_type": "stream",
     "text": [
      "/home/lightner/anaconda3/lib/python3.6/site-packages/ipykernel_launcher.py:16: SADeprecationWarning: reflect=True is deprecate; please use the reflect() method.\n",
      "  app.launch_new_instance()\n"
     ]
    }
   ],
   "source": [
    "#### connect \n",
    "engine, connection, meta = connect(user, password, db)"
   ]
  },
  {
   "cell_type": "markdown",
   "metadata": {
    "slideshow": {
     "slide_type": "subslide"
    }
   },
   "source": [
    "### Upload data from csv"
   ]
  },
  {
   "cell_type": "code",
   "execution_count": 6,
   "metadata": {
    "slideshow": {
     "slide_type": "fragment"
    }
   },
   "outputs": [
    {
     "data": {
      "text/html": [
       "<div>\n",
       "<style scoped>\n",
       "    .dataframe tbody tr th:only-of-type {\n",
       "        vertical-align: middle;\n",
       "    }\n",
       "\n",
       "    .dataframe tbody tr th {\n",
       "        vertical-align: top;\n",
       "    }\n",
       "\n",
       "    .dataframe thead th {\n",
       "        text-align: right;\n",
       "    }\n",
       "</style>\n",
       "<table border=\"1\" class=\"dataframe\">\n",
       "  <thead>\n",
       "    <tr style=\"text-align: right;\">\n",
       "      <th></th>\n",
       "      <th>Unnamed: 0</th>\n",
       "      <th>Var0</th>\n",
       "      <th>Var1</th>\n",
       "      <th>Var2</th>\n",
       "      <th>Var3</th>\n",
       "      <th>Var4</th>\n",
       "      <th>Var5</th>\n",
       "      <th>Var6</th>\n",
       "      <th>Var7</th>\n",
       "      <th>Var8</th>\n",
       "      <th>...</th>\n",
       "      <th>Var208</th>\n",
       "      <th>Var209</th>\n",
       "      <th>Var210</th>\n",
       "      <th>Var211</th>\n",
       "      <th>Var212</th>\n",
       "      <th>Var213</th>\n",
       "      <th>Var214</th>\n",
       "      <th>Var215</th>\n",
       "      <th>Var216</th>\n",
       "      <th>Var217</th>\n",
       "    </tr>\n",
       "  </thead>\n",
       "  <tbody>\n",
       "    <tr>\n",
       "      <th>0</th>\n",
       "      <td>0</td>\n",
       "      <td>NaN</td>\n",
       "      <td>2.416430</td>\n",
       "      <td>NaN</td>\n",
       "      <td>9.309007</td>\n",
       "      <td>169465.956355</td>\n",
       "      <td>NaN</td>\n",
       "      <td>3302.0</td>\n",
       "      <td>NaN</td>\n",
       "      <td>1903.712617</td>\n",
       "      <td>...</td>\n",
       "      <td>NaN</td>\n",
       "      <td>1.903713</td>\n",
       "      <td>63.718735</td>\n",
       "      <td>NaN</td>\n",
       "      <td>NaN</td>\n",
       "      <td>NaN</td>\n",
       "      <td>4.253241</td>\n",
       "      <td>NaN</td>\n",
       "      <td>99.156992</td>\n",
       "      <td>NaN</td>\n",
       "    </tr>\n",
       "    <tr>\n",
       "      <th>1</th>\n",
       "      <td>1</td>\n",
       "      <td>12.822017</td>\n",
       "      <td>2.639936</td>\n",
       "      <td>-0.015189</td>\n",
       "      <td>8.905180</td>\n",
       "      <td>209876.166419</td>\n",
       "      <td>-0.415615</td>\n",
       "      <td>4276.0</td>\n",
       "      <td>0.332602</td>\n",
       "      <td>1904.122829</td>\n",
       "      <td>...</td>\n",
       "      <td>0.035213</td>\n",
       "      <td>1.904123</td>\n",
       "      <td>37.236246</td>\n",
       "      <td>NaN</td>\n",
       "      <td>0.045584</td>\n",
       "      <td>-6.072028</td>\n",
       "      <td>4.181193</td>\n",
       "      <td>7.153315</td>\n",
       "      <td>99.202192</td>\n",
       "      <td>-0.072876</td>\n",
       "    </tr>\n",
       "    <tr>\n",
       "      <th>2</th>\n",
       "      <td>2</td>\n",
       "      <td>-55.897289</td>\n",
       "      <td>2.893730</td>\n",
       "      <td>17.296321</td>\n",
       "      <td>6.968417</td>\n",
       "      <td>158174.459103</td>\n",
       "      <td>-0.354371</td>\n",
       "      <td>4071.0</td>\n",
       "      <td>-1.691349</td>\n",
       "      <td>1452.122274</td>\n",
       "      <td>...</td>\n",
       "      <td>0.027593</td>\n",
       "      <td>1.452122</td>\n",
       "      <td>24.040807</td>\n",
       "      <td>NaN</td>\n",
       "      <td>0.043479</td>\n",
       "      <td>-25.872388</td>\n",
       "      <td>3.337864</td>\n",
       "      <td>28.440054</td>\n",
       "      <td>99.245324</td>\n",
       "      <td>-0.289607</td>\n",
       "    </tr>\n",
       "    <tr>\n",
       "      <th>3</th>\n",
       "      <td>3</td>\n",
       "      <td>-16.283720</td>\n",
       "      <td>3.147535</td>\n",
       "      <td>15.429666</td>\n",
       "      <td>5.479013</td>\n",
       "      <td>114075.207259</td>\n",
       "      <td>-0.402046</td>\n",
       "      <td>8937.0</td>\n",
       "      <td>-1.870101</td>\n",
       "      <td>1162.653135</td>\n",
       "      <td>...</td>\n",
       "      <td>0.025303</td>\n",
       "      <td>1.162653</td>\n",
       "      <td>14.375296</td>\n",
       "      <td>NaN</td>\n",
       "      <td>0.038593</td>\n",
       "      <td>-25.134100</td>\n",
       "      <td>1.632790</td>\n",
       "      <td>27.225987</td>\n",
       "      <td>99.283626</td>\n",
       "      <td>-0.277122</td>\n",
       "    </tr>\n",
       "    <tr>\n",
       "      <th>4</th>\n",
       "      <td>4</td>\n",
       "      <td>135.884474</td>\n",
       "      <td>3.378356</td>\n",
       "      <td>-21.248107</td>\n",
       "      <td>7.020349</td>\n",
       "      <td>240458.970881</td>\n",
       "      <td>-0.104042</td>\n",
       "      <td>5499.0</td>\n",
       "      <td>2.991363</td>\n",
       "      <td>1468.297798</td>\n",
       "      <td>...</td>\n",
       "      <td>-0.003459</td>\n",
       "      <td>1.468298</td>\n",
       "      <td>12.879657</td>\n",
       "      <td>NaN</td>\n",
       "      <td>-0.002770</td>\n",
       "      <td>32.308926</td>\n",
       "      <td>2.562216</td>\n",
       "      <td>-34.310984</td>\n",
       "      <td>99.280876</td>\n",
       "      <td>0.349102</td>\n",
       "    </tr>\n",
       "  </tbody>\n",
       "</table>\n",
       "<p>5 rows × 219 columns</p>\n",
       "</div>"
      ],
      "text/plain": [
       "   Unnamed: 0        Var0      Var1       Var2      Var3           Var4  \\\n",
       "0           0         NaN  2.416430        NaN  9.309007  169465.956355   \n",
       "1           1   12.822017  2.639936  -0.015189  8.905180  209876.166419   \n",
       "2           2  -55.897289  2.893730  17.296321  6.968417  158174.459103   \n",
       "3           3  -16.283720  3.147535  15.429666  5.479013  114075.207259   \n",
       "4           4  135.884474  3.378356 -21.248107  7.020349  240458.970881   \n",
       "\n",
       "       Var5    Var6      Var7         Var8    ...       Var208    Var209  \\\n",
       "0       NaN  3302.0       NaN  1903.712617    ...          NaN  1.903713   \n",
       "1 -0.415615  4276.0  0.332602  1904.122829    ...     0.035213  1.904123   \n",
       "2 -0.354371  4071.0 -1.691349  1452.122274    ...     0.027593  1.452122   \n",
       "3 -0.402046  8937.0 -1.870101  1162.653135    ...     0.025303  1.162653   \n",
       "4 -0.104042  5499.0  2.991363  1468.297798    ...    -0.003459  1.468298   \n",
       "\n",
       "      Var210  Var211    Var212     Var213    Var214     Var215     Var216  \\\n",
       "0  63.718735     NaN       NaN        NaN  4.253241        NaN  99.156992   \n",
       "1  37.236246     NaN  0.045584  -6.072028  4.181193   7.153315  99.202192   \n",
       "2  24.040807     NaN  0.043479 -25.872388  3.337864  28.440054  99.245324   \n",
       "3  14.375296     NaN  0.038593 -25.134100  1.632790  27.225987  99.283626   \n",
       "4  12.879657     NaN -0.002770  32.308926  2.562216 -34.310984  99.280876   \n",
       "\n",
       "     Var217  \n",
       "0       NaN  \n",
       "1 -0.072876  \n",
       "2 -0.289607  \n",
       "3 -0.277122  \n",
       "4  0.349102  \n",
       "\n",
       "[5 rows x 219 columns]"
      ]
     },
     "execution_count": 6,
     "metadata": {},
     "output_type": "execute_result"
    }
   ],
   "source": [
    "# access full dataset data \n",
    "data_csv = pd.read_csv('./portal-example/Portal/data/ODI-Portal_April2018.csv', sep='|')\n",
    "data_csv.head()"
   ]
  },
  {
   "cell_type": "code",
   "execution_count": 7,
   "metadata": {
    "slideshow": {
     "slide_type": "subslide"
    }
   },
   "outputs": [],
   "source": [
    "# push dataset to postgres database\n",
    "data_csv.to_sql('odi-portal-april2018', con=engine, schema='public', if_exists='replace')"
   ]
  },
  {
   "cell_type": "markdown",
   "metadata": {
    "slideshow": {
     "slide_type": "slide"
    }
   },
   "source": [
    "# Access and Query Data"
   ]
  },
  {
   "cell_type": "code",
   "execution_count": 8,
   "metadata": {
    "slideshow": {
     "slide_type": "subslide"
    }
   },
   "outputs": [],
   "source": [
    "tablename= 'odi-portal-april2018'\n",
    "schemaname = 'public'\n",
    "\n",
    "# get full dataset\n",
    "data = pd.read_sql_table(tablename, con=engine, schema =schemaname)\n"
   ]
  },
  {
   "cell_type": "code",
   "execution_count": 9,
   "metadata": {
    "slideshow": {
     "slide_type": "subslide"
    }
   },
   "outputs": [
    {
     "data": {
      "text/html": [
       "<div>\n",
       "<style scoped>\n",
       "    .dataframe tbody tr th:only-of-type {\n",
       "        vertical-align: middle;\n",
       "    }\n",
       "\n",
       "    .dataframe tbody tr th {\n",
       "        vertical-align: top;\n",
       "    }\n",
       "\n",
       "    .dataframe thead th {\n",
       "        text-align: right;\n",
       "    }\n",
       "</style>\n",
       "<table border=\"1\" class=\"dataframe\">\n",
       "  <thead>\n",
       "    <tr style=\"text-align: right;\">\n",
       "      <th></th>\n",
       "      <th>index</th>\n",
       "      <th>Unnamed: 0</th>\n",
       "      <th>Var0</th>\n",
       "      <th>Var1</th>\n",
       "      <th>Var2</th>\n",
       "      <th>Var3</th>\n",
       "      <th>Var4</th>\n",
       "      <th>Var5</th>\n",
       "      <th>Var6</th>\n",
       "      <th>Var7</th>\n",
       "      <th>...</th>\n",
       "      <th>Var208</th>\n",
       "      <th>Var209</th>\n",
       "      <th>Var210</th>\n",
       "      <th>Var211</th>\n",
       "      <th>Var212</th>\n",
       "      <th>Var213</th>\n",
       "      <th>Var214</th>\n",
       "      <th>Var215</th>\n",
       "      <th>Var216</th>\n",
       "      <th>Var217</th>\n",
       "    </tr>\n",
       "  </thead>\n",
       "  <tbody>\n",
       "    <tr>\n",
       "      <th>0</th>\n",
       "      <td>0</td>\n",
       "      <td>0</td>\n",
       "      <td>NaN</td>\n",
       "      <td>2.416430</td>\n",
       "      <td>NaN</td>\n",
       "      <td>9.309007</td>\n",
       "      <td>169465.956355</td>\n",
       "      <td>NaN</td>\n",
       "      <td>3302.0</td>\n",
       "      <td>NaN</td>\n",
       "      <td>...</td>\n",
       "      <td>NaN</td>\n",
       "      <td>1.903713</td>\n",
       "      <td>63.718735</td>\n",
       "      <td>NaN</td>\n",
       "      <td>NaN</td>\n",
       "      <td>NaN</td>\n",
       "      <td>4.253241</td>\n",
       "      <td>NaN</td>\n",
       "      <td>99.156992</td>\n",
       "      <td>NaN</td>\n",
       "    </tr>\n",
       "    <tr>\n",
       "      <th>1</th>\n",
       "      <td>1</td>\n",
       "      <td>1</td>\n",
       "      <td>12.822017</td>\n",
       "      <td>2.639936</td>\n",
       "      <td>-0.015189</td>\n",
       "      <td>8.905180</td>\n",
       "      <td>209876.166419</td>\n",
       "      <td>-0.415615</td>\n",
       "      <td>4276.0</td>\n",
       "      <td>0.332602</td>\n",
       "      <td>...</td>\n",
       "      <td>0.035213</td>\n",
       "      <td>1.904123</td>\n",
       "      <td>37.236246</td>\n",
       "      <td>NaN</td>\n",
       "      <td>0.045584</td>\n",
       "      <td>-6.072028</td>\n",
       "      <td>4.181193</td>\n",
       "      <td>7.153315</td>\n",
       "      <td>99.202192</td>\n",
       "      <td>-0.072876</td>\n",
       "    </tr>\n",
       "    <tr>\n",
       "      <th>2</th>\n",
       "      <td>2</td>\n",
       "      <td>2</td>\n",
       "      <td>-55.897289</td>\n",
       "      <td>2.893730</td>\n",
       "      <td>17.296321</td>\n",
       "      <td>6.968417</td>\n",
       "      <td>158174.459103</td>\n",
       "      <td>-0.354371</td>\n",
       "      <td>4071.0</td>\n",
       "      <td>-1.691349</td>\n",
       "      <td>...</td>\n",
       "      <td>0.027593</td>\n",
       "      <td>1.452122</td>\n",
       "      <td>24.040807</td>\n",
       "      <td>NaN</td>\n",
       "      <td>0.043479</td>\n",
       "      <td>-25.872388</td>\n",
       "      <td>3.337864</td>\n",
       "      <td>28.440054</td>\n",
       "      <td>99.245324</td>\n",
       "      <td>-0.289607</td>\n",
       "    </tr>\n",
       "    <tr>\n",
       "      <th>3</th>\n",
       "      <td>3</td>\n",
       "      <td>3</td>\n",
       "      <td>-16.283720</td>\n",
       "      <td>3.147535</td>\n",
       "      <td>15.429666</td>\n",
       "      <td>5.479013</td>\n",
       "      <td>114075.207259</td>\n",
       "      <td>-0.402046</td>\n",
       "      <td>8937.0</td>\n",
       "      <td>-1.870101</td>\n",
       "      <td>...</td>\n",
       "      <td>0.025303</td>\n",
       "      <td>1.162653</td>\n",
       "      <td>14.375296</td>\n",
       "      <td>NaN</td>\n",
       "      <td>0.038593</td>\n",
       "      <td>-25.134100</td>\n",
       "      <td>1.632790</td>\n",
       "      <td>27.225987</td>\n",
       "      <td>99.283626</td>\n",
       "      <td>-0.277122</td>\n",
       "    </tr>\n",
       "    <tr>\n",
       "      <th>4</th>\n",
       "      <td>4</td>\n",
       "      <td>4</td>\n",
       "      <td>135.884474</td>\n",
       "      <td>3.378356</td>\n",
       "      <td>-21.248107</td>\n",
       "      <td>7.020349</td>\n",
       "      <td>240458.970881</td>\n",
       "      <td>-0.104042</td>\n",
       "      <td>5499.0</td>\n",
       "      <td>2.991363</td>\n",
       "      <td>...</td>\n",
       "      <td>-0.003459</td>\n",
       "      <td>1.468298</td>\n",
       "      <td>12.879657</td>\n",
       "      <td>NaN</td>\n",
       "      <td>-0.002770</td>\n",
       "      <td>32.308926</td>\n",
       "      <td>2.562216</td>\n",
       "      <td>-34.310984</td>\n",
       "      <td>99.280876</td>\n",
       "      <td>0.349102</td>\n",
       "    </tr>\n",
       "  </tbody>\n",
       "</table>\n",
       "<p>5 rows × 220 columns</p>\n",
       "</div>"
      ],
      "text/plain": [
       "   index  Unnamed: 0        Var0      Var1       Var2      Var3  \\\n",
       "0      0           0         NaN  2.416430        NaN  9.309007   \n",
       "1      1           1   12.822017  2.639936  -0.015189  8.905180   \n",
       "2      2           2  -55.897289  2.893730  17.296321  6.968417   \n",
       "3      3           3  -16.283720  3.147535  15.429666  5.479013   \n",
       "4      4           4  135.884474  3.378356 -21.248107  7.020349   \n",
       "\n",
       "            Var4      Var5    Var6      Var7    ...       Var208    Var209  \\\n",
       "0  169465.956355       NaN  3302.0       NaN    ...          NaN  1.903713   \n",
       "1  209876.166419 -0.415615  4276.0  0.332602    ...     0.035213  1.904123   \n",
       "2  158174.459103 -0.354371  4071.0 -1.691349    ...     0.027593  1.452122   \n",
       "3  114075.207259 -0.402046  8937.0 -1.870101    ...     0.025303  1.162653   \n",
       "4  240458.970881 -0.104042  5499.0  2.991363    ...    -0.003459  1.468298   \n",
       "\n",
       "      Var210  Var211    Var212     Var213    Var214     Var215     Var216  \\\n",
       "0  63.718735     NaN       NaN        NaN  4.253241        NaN  99.156992   \n",
       "1  37.236246     NaN  0.045584  -6.072028  4.181193   7.153315  99.202192   \n",
       "2  24.040807     NaN  0.043479 -25.872388  3.337864  28.440054  99.245324   \n",
       "3  14.375296     NaN  0.038593 -25.134100  1.632790  27.225987  99.283626   \n",
       "4  12.879657     NaN -0.002770  32.308926  2.562216 -34.310984  99.280876   \n",
       "\n",
       "     Var217  \n",
       "0       NaN  \n",
       "1 -0.072876  \n",
       "2 -0.289607  \n",
       "3 -0.277122  \n",
       "4  0.349102  \n",
       "\n",
       "[5 rows x 220 columns]"
      ]
     },
     "execution_count": 9,
     "metadata": {},
     "output_type": "execute_result"
    }
   ],
   "source": [
    "data.head()"
   ]
  },
  {
   "cell_type": "code",
   "execution_count": 10,
   "metadata": {
    "slideshow": {
     "slide_type": "fragment"
    }
   },
   "outputs": [
    {
     "data": {
      "text/plain": [
       "4452"
      ]
     },
     "execution_count": 10,
     "metadata": {},
     "output_type": "execute_result"
    }
   ],
   "source": [
    "# Number of observations\n",
    "len(data)"
   ]
  },
  {
   "cell_type": "markdown",
   "metadata": {
    "slideshow": {
     "slide_type": "slide"
    }
   },
   "source": [
    "### Access specific columns "
   ]
  },
  {
   "cell_type": "code",
   "execution_count": 11,
   "metadata": {
    "slideshow": {
     "slide_type": "subslide"
    }
   },
   "outputs": [],
   "source": [
    "# First generate a 'table' \n",
    "# Create Data Table to load\n",
    "tablename= 'odi-portal-april2018'\n",
    "\n",
    "# Set table \n",
    "data_table = Table(tablename, MetaData(), autoload=True, autoload_with=engine)\n",
    "\n",
    "# generate a select statement \n",
    "stmt_main = select([data_table])"
   ]
  },
  {
   "cell_type": "markdown",
   "metadata": {
    "slideshow": {
     "slide_type": "subslide"
    }
   },
   "source": [
    "It is essentially an empty table. Or a way to access the actual table. "
   ]
  },
  {
   "cell_type": "code",
   "execution_count": 12,
   "metadata": {
    "slideshow": {
     "slide_type": "fragment"
    }
   },
   "outputs": [
    {
     "name": "stdout",
     "output_type": "stream",
     "text": [
      "odi-portal-april2018\n"
     ]
    }
   ],
   "source": [
    "print(data_table)"
   ]
  },
  {
   "cell_type": "markdown",
   "metadata": {
    "slideshow": {
     "slide_type": "subslide"
    }
   },
   "source": [
    "Select certain columns \n"
   ]
  },
  {
   "cell_type": "code",
   "execution_count": 13,
   "metadata": {
    "slideshow": {
     "slide_type": "subslide"
    }
   },
   "outputs": [],
   "source": [
    "def get_columns(stmt, vars_interest): \n",
    "    # generate a dictioanry with the variables as keys \n",
    "    dictionary= {}\n",
    "\n",
    "    for i in vars_interest:\n",
    "        dictionary[i] = []\n",
    "\n",
    "    # place data in the dictionary\n",
    "    for result in connection.execute(stmt):\n",
    "        for i in vars_interest:\n",
    "            dictionary[i].append(result[i])\n",
    "\n",
    "    # turn dictionary into dataframe \n",
    "    data = pd.DataFrame(dictionary)\n",
    "    return data\n",
    "\n",
    "# generate a list of variables of interest \n",
    "vars_interest = ['Var0', 'Var1', 'Var3', 'countryname']\n",
    "data = get_columns(stmt_main, vars_interest)"
   ]
  },
  {
   "cell_type": "code",
   "execution_count": 14,
   "metadata": {
    "slideshow": {
     "slide_type": "subslide"
    }
   },
   "outputs": [
    {
     "data": {
      "text/html": [
       "<div>\n",
       "<style scoped>\n",
       "    .dataframe tbody tr th:only-of-type {\n",
       "        vertical-align: middle;\n",
       "    }\n",
       "\n",
       "    .dataframe tbody tr th {\n",
       "        vertical-align: top;\n",
       "    }\n",
       "\n",
       "    .dataframe thead th {\n",
       "        text-align: right;\n",
       "    }\n",
       "</style>\n",
       "<table border=\"1\" class=\"dataframe\">\n",
       "  <thead>\n",
       "    <tr style=\"text-align: right;\">\n",
       "      <th></th>\n",
       "      <th>Var0</th>\n",
       "      <th>Var1</th>\n",
       "      <th>Var3</th>\n",
       "      <th>countryname</th>\n",
       "    </tr>\n",
       "  </thead>\n",
       "  <tbody>\n",
       "    <tr>\n",
       "      <th>0</th>\n",
       "      <td>NaN</td>\n",
       "      <td>2.416430</td>\n",
       "      <td>9.309007</td>\n",
       "      <td>Afghanistan</td>\n",
       "    </tr>\n",
       "    <tr>\n",
       "      <th>1</th>\n",
       "      <td>12.822017</td>\n",
       "      <td>2.639936</td>\n",
       "      <td>8.905180</td>\n",
       "      <td>Afghanistan</td>\n",
       "    </tr>\n",
       "    <tr>\n",
       "      <th>2</th>\n",
       "      <td>-55.897289</td>\n",
       "      <td>2.893730</td>\n",
       "      <td>6.968417</td>\n",
       "      <td>Afghanistan</td>\n",
       "    </tr>\n",
       "    <tr>\n",
       "      <th>3</th>\n",
       "      <td>-16.283720</td>\n",
       "      <td>3.147535</td>\n",
       "      <td>5.479013</td>\n",
       "      <td>Afghanistan</td>\n",
       "    </tr>\n",
       "    <tr>\n",
       "      <th>4</th>\n",
       "      <td>135.884474</td>\n",
       "      <td>3.378356</td>\n",
       "      <td>7.020349</td>\n",
       "      <td>Afghanistan</td>\n",
       "    </tr>\n",
       "  </tbody>\n",
       "</table>\n",
       "</div>"
      ],
      "text/plain": [
       "         Var0      Var1      Var3  countryname\n",
       "0         NaN  2.416430  9.309007  Afghanistan\n",
       "1   12.822017  2.639936  8.905180  Afghanistan\n",
       "2  -55.897289  2.893730  6.968417  Afghanistan\n",
       "3  -16.283720  3.147535  5.479013  Afghanistan\n",
       "4  135.884474  3.378356  7.020349  Afghanistan"
      ]
     },
     "execution_count": 14,
     "metadata": {},
     "output_type": "execute_result"
    }
   ],
   "source": [
    "data.head()"
   ]
  },
  {
   "cell_type": "markdown",
   "metadata": {
    "slideshow": {
     "slide_type": "subslide"
    }
   },
   "source": [
    "### Query on the values \n",
    "\n",
    "To select observations conditional on the values of the columns, change the stmt function. "
   ]
  },
  {
   "cell_type": "code",
   "execution_count": 15,
   "metadata": {
    "slideshow": {
     "slide_type": "subslide"
    }
   },
   "outputs": [
    {
     "data": {
      "text/html": [
       "<div>\n",
       "<style scoped>\n",
       "    .dataframe tbody tr th:only-of-type {\n",
       "        vertical-align: middle;\n",
       "    }\n",
       "\n",
       "    .dataframe tbody tr th {\n",
       "        vertical-align: top;\n",
       "    }\n",
       "\n",
       "    .dataframe thead th {\n",
       "        text-align: right;\n",
       "    }\n",
       "</style>\n",
       "<table border=\"1\" class=\"dataframe\">\n",
       "  <thead>\n",
       "    <tr style=\"text-align: right;\">\n",
       "      <th></th>\n",
       "      <th>Var0</th>\n",
       "      <th>Var1</th>\n",
       "      <th>Var3</th>\n",
       "      <th>countryname</th>\n",
       "    </tr>\n",
       "  </thead>\n",
       "  <tbody>\n",
       "    <tr>\n",
       "      <th>0</th>\n",
       "      <td>8.399127</td>\n",
       "      <td>4.527917</td>\n",
       "      <td>5.853286</td>\n",
       "      <td>Afghanistan</td>\n",
       "    </tr>\n",
       "    <tr>\n",
       "      <th>1</th>\n",
       "      <td>7.848888</td>\n",
       "      <td>6.016861</td>\n",
       "      <td>9.862316</td>\n",
       "      <td>Afghanistan</td>\n",
       "    </tr>\n",
       "    <tr>\n",
       "      <th>2</th>\n",
       "      <td>6.801168</td>\n",
       "      <td>6.535829</td>\n",
       "      <td>11.393576</td>\n",
       "      <td>Afghanistan</td>\n",
       "    </tr>\n",
       "    <tr>\n",
       "      <th>3</th>\n",
       "      <td>6.616606</td>\n",
       "      <td>7.111214</td>\n",
       "      <td>12.910839</td>\n",
       "      <td>Afghanistan</td>\n",
       "    </tr>\n",
       "    <tr>\n",
       "      <th>4</th>\n",
       "      <td>7.778218</td>\n",
       "      <td>7.817901</td>\n",
       "      <td>14.340422</td>\n",
       "      <td>Afghanistan</td>\n",
       "    </tr>\n",
       "  </tbody>\n",
       "</table>\n",
       "</div>"
      ],
      "text/plain": [
       "       Var0      Var1       Var3  countryname\n",
       "0  8.399127  4.527917   5.853286  Afghanistan\n",
       "1  7.848888  6.016861   9.862316  Afghanistan\n",
       "2  6.801168  6.535829  11.393576  Afghanistan\n",
       "3  6.616606  7.111214  12.910839  Afghanistan\n",
       "4  7.778218  7.817901  14.340422  Afghanistan"
      ]
     },
     "execution_count": 15,
     "metadata": {},
     "output_type": "execute_result"
    }
   ],
   "source": [
    "# define new query \n",
    "stmt_query0 = stmt_main.where(\n",
    "    data_table.columns.Var0.between(5,10))\n",
    "\n",
    "# get data with new query \n",
    "data = get_columns(stmt_query0, vars_interest)\n",
    "\n",
    "# notice that all those outside the \n",
    "data.head()"
   ]
  },
  {
   "cell_type": "markdown",
   "metadata": {
    "slideshow": {
     "slide_type": "subslide"
    }
   },
   "source": [
    "You can also select those in a defined list, as well as make more than one query. There is also and _or option. "
   ]
  },
  {
   "cell_type": "code",
   "execution_count": 16,
   "metadata": {
    "slideshow": {
     "slide_type": "fragment"
    }
   },
   "outputs": [
    {
     "data": {
      "text/html": [
       "<div>\n",
       "<style scoped>\n",
       "    .dataframe tbody tr th:only-of-type {\n",
       "        vertical-align: middle;\n",
       "    }\n",
       "\n",
       "    .dataframe tbody tr th {\n",
       "        vertical-align: top;\n",
       "    }\n",
       "\n",
       "    .dataframe thead th {\n",
       "        text-align: right;\n",
       "    }\n",
       "</style>\n",
       "<table border=\"1\" class=\"dataframe\">\n",
       "  <thead>\n",
       "    <tr style=\"text-align: right;\">\n",
       "      <th></th>\n",
       "      <th>Var0</th>\n",
       "      <th>Var1</th>\n",
       "      <th>Var3</th>\n",
       "      <th>countryname</th>\n",
       "    </tr>\n",
       "  </thead>\n",
       "  <tbody>\n",
       "    <tr>\n",
       "      <th>0</th>\n",
       "      <td>5.018411</td>\n",
       "      <td>16.185540</td>\n",
       "      <td>13.460233</td>\n",
       "      <td>Algeria</td>\n",
       "    </tr>\n",
       "    <tr>\n",
       "      <th>1</th>\n",
       "      <td>5.612184</td>\n",
       "      <td>25.871599</td>\n",
       "      <td>23.678758</td>\n",
       "      <td>Algeria</td>\n",
       "    </tr>\n",
       "    <tr>\n",
       "      <th>2</th>\n",
       "      <td>7.471727</td>\n",
       "      <td>28.199936</td>\n",
       "      <td>21.531688</td>\n",
       "      <td>Algeria</td>\n",
       "    </tr>\n",
       "    <tr>\n",
       "      <th>3</th>\n",
       "      <td>5.521733</td>\n",
       "      <td>533.257098</td>\n",
       "      <td>10.393568</td>\n",
       "      <td>China</td>\n",
       "    </tr>\n",
       "    <tr>\n",
       "      <th>4</th>\n",
       "      <td>8.776286</td>\n",
       "      <td>1.835082</td>\n",
       "      <td>2.288001</td>\n",
       "      <td>Malawi</td>\n",
       "    </tr>\n",
       "  </tbody>\n",
       "</table>\n",
       "</div>"
      ],
      "text/plain": [
       "       Var0        Var1       Var3 countryname\n",
       "0  5.018411   16.185540  13.460233     Algeria\n",
       "1  5.612184   25.871599  23.678758     Algeria\n",
       "2  7.471727   28.199936  21.531688     Algeria\n",
       "3  5.521733  533.257098  10.393568       China\n",
       "4  8.776286    1.835082   2.288001      Malawi"
      ]
     },
     "execution_count": 16,
     "metadata": {},
     "output_type": "execute_result"
    }
   ],
   "source": [
    "# list of countries of interest\n",
    "country_vals = ['Malawi', 'China', 'Algeria']\n",
    "\n",
    "# multiple conditional query\n",
    "stmt_query1 = stmt_main.where(and_(\n",
    "    data_table.columns.countryname.in_(country_vals),\n",
    "    data_table.columns.Var0.between(5,10)))\n",
    "\n",
    "# get data with new query \n",
    "data = get_columns(stmt_query1, vars_interest)\n",
    "\n",
    "data.head()"
   ]
  },
  {
   "cell_type": "markdown",
   "metadata": {
    "slideshow": {
     "slide_type": "subslide"
    }
   },
   "source": [
    "You can also use python operators. "
   ]
  },
  {
   "cell_type": "code",
   "execution_count": 17,
   "metadata": {
    "slideshow": {
     "slide_type": "subslide"
    }
   },
   "outputs": [
    {
     "data": {
      "text/html": [
       "<div>\n",
       "<style scoped>\n",
       "    .dataframe tbody tr th:only-of-type {\n",
       "        vertical-align: middle;\n",
       "    }\n",
       "\n",
       "    .dataframe tbody tr th {\n",
       "        vertical-align: top;\n",
       "    }\n",
       "\n",
       "    .dataframe thead th {\n",
       "        text-align: right;\n",
       "    }\n",
       "</style>\n",
       "<table border=\"1\" class=\"dataframe\">\n",
       "  <thead>\n",
       "    <tr style=\"text-align: right;\">\n",
       "      <th></th>\n",
       "      <th>Var0</th>\n",
       "      <th>Var1</th>\n",
       "      <th>Var3</th>\n",
       "      <th>countryname</th>\n",
       "    </tr>\n",
       "  </thead>\n",
       "  <tbody>\n",
       "    <tr>\n",
       "      <th>0</th>\n",
       "      <td>16.483664</td>\n",
       "      <td>1.776347</td>\n",
       "      <td>2.252869</td>\n",
       "      <td>Malawi</td>\n",
       "    </tr>\n",
       "    <tr>\n",
       "      <th>1</th>\n",
       "      <td>8.776286</td>\n",
       "      <td>1.835082</td>\n",
       "      <td>2.288001</td>\n",
       "      <td>Malawi</td>\n",
       "    </tr>\n",
       "    <tr>\n",
       "      <th>2</th>\n",
       "      <td>10.079264</td>\n",
       "      <td>2.033727</td>\n",
       "      <td>2.459857</td>\n",
       "      <td>Malawi</td>\n",
       "    </tr>\n",
       "    <tr>\n",
       "      <th>3</th>\n",
       "      <td>9.649865</td>\n",
       "      <td>2.187209</td>\n",
       "      <td>2.652827</td>\n",
       "      <td>Malawi</td>\n",
       "    </tr>\n",
       "  </tbody>\n",
       "</table>\n",
       "</div>"
      ],
      "text/plain": [
       "        Var0      Var1      Var3 countryname\n",
       "0  16.483664  1.776347  2.252869      Malawi\n",
       "1   8.776286  1.835082  2.288001      Malawi\n",
       "2  10.079264  2.033727  2.459857      Malawi\n",
       "3   9.649865  2.187209  2.652827      Malawi"
      ]
     },
     "execution_count": 17,
     "metadata": {},
     "output_type": "execute_result"
    }
   ],
   "source": [
    "# list of countries of interest\n",
    "country_vals = ['Malawi', 'China', 'Algeria']\n",
    "\n",
    "# multiple conditional query\n",
    "stmt_query1 = stmt_main.where(and_(\n",
    "    data_table.columns.countryname == 'Malawi',\n",
    "    data_table.columns.Var0 > 5.5))\n",
    "\n",
    "# get data with new query \n",
    "data = get_columns(stmt_query1, vars_interest)\n",
    "\n",
    "data.head()"
   ]
  },
  {
   "cell_type": "markdown",
   "metadata": {
    "slideshow": {
     "slide_type": "slide"
    }
   },
   "source": [
    "## Close "
   ]
  },
  {
   "cell_type": "code",
   "execution_count": 18,
   "metadata": {
    "slideshow": {
     "slide_type": "fragment"
    }
   },
   "outputs": [],
   "source": [
    "connection.close()"
   ]
  }
 ],
 "metadata": {
  "kernelspec": {
   "display_name": "Python 3",
   "language": "python",
   "name": "python3"
  },
  "language_info": {
   "codemirror_mode": {
    "name": "ipython",
    "version": 3
   },
   "file_extension": ".py",
   "mimetype": "text/x-python",
   "name": "python",
   "nbconvert_exporter": "python",
   "pygments_lexer": "ipython3",
   "version": "3.6.5"
  }
 },
 "nbformat": 4,
 "nbformat_minor": 2
}
