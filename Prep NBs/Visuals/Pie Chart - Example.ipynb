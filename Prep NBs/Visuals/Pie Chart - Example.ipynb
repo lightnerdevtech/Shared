{
 "cells": [
  {
   "cell_type": "markdown",
   "metadata": {},
   "source": [
    "# Pie Chart \n",
    "\n",
    "This chart automates the process of making a pie chart in bokeh using the ESDB format as an input data format.  Original code comes from https://bokeh.pydata.org/en/latest/docs/gallery/pie_chart.html\n"
   ]
  },
  {
   "cell_type": "code",
   "execution_count": 1,
   "metadata": {},
   "outputs": [
    {
     "name": "stderr",
     "output_type": "stream",
     "text": [
      "/home/lightner/miniconda3/lib/python3.6/importlib/_bootstrap.py:219: RuntimeWarning: numpy.dtype size changed, may indicate binary incompatibility. Expected 96, got 88\n",
      "  return f(*args, **kwds)\n",
      "/home/lightner/miniconda3/lib/python3.6/importlib/_bootstrap.py:219: RuntimeWarning: numpy.dtype size changed, may indicate binary incompatibility. Expected 96, got 88\n",
      "  return f(*args, **kwds)\n"
     ]
    }
   ],
   "source": [
    "import pandas as pd"
   ]
  },
  {
   "cell_type": "code",
   "execution_count": 2,
   "metadata": {},
   "outputs": [],
   "source": [
    "import pandas as pd\n",
    "import matplotlib\n",
    "import numpy as np\n",
    "from bokeh.plotting import figure, show, output_notebook\n",
    "from bokeh.models import ColumnDataSource, LabelSet\n",
    "from bokeh.models import ColumnDataSource, Div, HoverTool, LabelSet\n",
    "from bokeh.models.glyphs import Ellipse\n",
    "\n",
    "import warnings\n",
    "warnings.simplefilter(action='ignore', category=FutureWarning)\n",
    "warnings.simplefilter(action='ignore', category=UserWarning)\n"
   ]
  },
  {
   "cell_type": "markdown",
   "metadata": {},
   "source": [
    "## Generate practice dataset "
   ]
  },
  {
   "cell_type": "code",
   "execution_count": 3,
   "metadata": {},
   "outputs": [
    {
     "data": {
      "text/html": [
       "<div>\n",
       "<style scoped>\n",
       "    .dataframe tbody tr th:only-of-type {\n",
       "        vertical-align: middle;\n",
       "    }\n",
       "\n",
       "    .dataframe tbody tr th {\n",
       "        vertical-align: top;\n",
       "    }\n",
       "\n",
       "    .dataframe thead th {\n",
       "        text-align: right;\n",
       "    }\n",
       "</style>\n",
       "<table border=\"1\" class=\"dataframe\">\n",
       "  <thead>\n",
       "    <tr style=\"text-align: right;\">\n",
       "      <th></th>\n",
       "      <th>text</th>\n",
       "      <th>f1</th>\n",
       "      <th>f2</th>\n",
       "      <th>f3</th>\n",
       "    </tr>\n",
       "  </thead>\n",
       "  <tbody>\n",
       "    <tr>\n",
       "      <th>0</th>\n",
       "      <td>Health</td>\n",
       "      <td>100</td>\n",
       "      <td>60</td>\n",
       "      <td>700</td>\n",
       "    </tr>\n",
       "    <tr>\n",
       "      <th>1</th>\n",
       "      <td>Education</td>\n",
       "      <td>140</td>\n",
       "      <td>530</td>\n",
       "      <td>400</td>\n",
       "    </tr>\n",
       "    <tr>\n",
       "      <th>2</th>\n",
       "      <td>Gender</td>\n",
       "      <td>350</td>\n",
       "      <td>540</td>\n",
       "      <td>400</td>\n",
       "    </tr>\n",
       "    <tr>\n",
       "      <th>3</th>\n",
       "      <td>Macro</td>\n",
       "      <td>400</td>\n",
       "      <td>330</td>\n",
       "      <td>600</td>\n",
       "    </tr>\n",
       "    <tr>\n",
       "      <th>4</th>\n",
       "      <td>Finance</td>\n",
       "      <td>203</td>\n",
       "      <td>200</td>\n",
       "      <td>320</td>\n",
       "    </tr>\n",
       "  </tbody>\n",
       "</table>\n",
       "</div>"
      ],
      "text/plain": [
       "        text   f1   f2   f3\n",
       "0     Health  100   60  700\n",
       "1  Education  140  530  400\n",
       "2     Gender  350  540  400\n",
       "3      Macro  400  330  600\n",
       "4    Finance  203  200  320"
      ]
     },
     "execution_count": 3,
     "metadata": {},
     "output_type": "execute_result"
    }
   ],
   "source": [
    "\n",
    "\n",
    "text = ['Health', 'Education', 'Gender', 'Macro', 'Finance', 'PSD', 'Conflict', 'Taxation', 'Democracy']\n",
    "# example factor:\n",
    "f1 = np.array([100, 140, 350, 400, 203, 504, 605, 304, 405])\n",
    "f2 = np.array([60, 530, 540, 330, 200, 406, 709, 403, 509])\n",
    "f3 = np.array([700, 400, 400, 600 , 320, 670, 302, 609, 304])\n",
    "\n",
    "\n",
    "# data frame \n",
    "df = pd.DataFrame({'text': text, 'f1': f1, 'f2': f2, 'f3': f3})\n",
    "\n",
    "df.head()"
   ]
  },
  {
   "cell_type": "code",
   "execution_count": 4,
   "metadata": {},
   "outputs": [
    {
     "data": {
      "text/html": [
       "<div>\n",
       "<style scoped>\n",
       "    .dataframe tbody tr th:only-of-type {\n",
       "        vertical-align: middle;\n",
       "    }\n",
       "\n",
       "    .dataframe tbody tr th {\n",
       "        vertical-align: top;\n",
       "    }\n",
       "\n",
       "    .dataframe thead th {\n",
       "        text-align: right;\n",
       "    }\n",
       "</style>\n",
       "<table border=\"1\" class=\"dataframe\">\n",
       "  <thead>\n",
       "    <tr style=\"text-align: right;\">\n",
       "      <th></th>\n",
       "      <th>text</th>\n",
       "      <th>var</th>\n",
       "      <th>f</th>\n",
       "    </tr>\n",
       "  </thead>\n",
       "  <tbody>\n",
       "    <tr>\n",
       "      <th>0</th>\n",
       "      <td>Health</td>\n",
       "      <td>0</td>\n",
       "      <td>100</td>\n",
       "    </tr>\n",
       "    <tr>\n",
       "      <th>1</th>\n",
       "      <td>Education</td>\n",
       "      <td>0</td>\n",
       "      <td>140</td>\n",
       "    </tr>\n",
       "    <tr>\n",
       "      <th>2</th>\n",
       "      <td>Gender</td>\n",
       "      <td>0</td>\n",
       "      <td>350</td>\n",
       "    </tr>\n",
       "    <tr>\n",
       "      <th>3</th>\n",
       "      <td>Macro</td>\n",
       "      <td>0</td>\n",
       "      <td>400</td>\n",
       "    </tr>\n",
       "    <tr>\n",
       "      <th>4</th>\n",
       "      <td>Finance</td>\n",
       "      <td>0</td>\n",
       "      <td>203</td>\n",
       "    </tr>\n",
       "  </tbody>\n",
       "</table>\n",
       "</div>"
      ],
      "text/plain": [
       "        text  var    f\n",
       "0     Health    0  100\n",
       "1  Education    0  140\n",
       "2     Gender    0  350\n",
       "3      Macro    0  400\n",
       "4    Finance    0  203"
      ]
     },
     "execution_count": 4,
     "metadata": {},
     "output_type": "execute_result"
    }
   ],
   "source": [
    "def long(df, cat_var, value_vars):\n",
    "    ''' make sure the dataset is in ESDB long format.'''\n",
    "    # reorder the dataframe is necessary for the rename code to work properly \n",
    "    # the wide to long function needs a common begining to each column to be shifted\n",
    "    \n",
    "    \n",
    "    df = df[[cat_var] + value_vars]\n",
    "    \n",
    "    # rename columns \n",
    "    df.columns = [cat_var] + ['f'+str(f) for f in range(0, len(df.columns[1:]))]\n",
    "    \n",
    "    # move from wide to long format\n",
    "    l = pd.wide_to_long(df, stubnames='f', i=[cat_var], j='var').reset_index()\n",
    "\n",
    "    \n",
    "    \n",
    "    return l\n",
    "\n",
    "df_plot = long(df, 'text', ['f1', 'f2', 'f3'])\n",
    "df_plot.head()"
   ]
  },
  {
   "cell_type": "code",
   "execution_count": 5,
   "metadata": {},
   "outputs": [],
   "source": [
    "df_plot.columns = ['series_name', 'country_id', 'value_start']\n",
    "df_plot['year'] = '2017'"
   ]
  },
  {
   "cell_type": "code",
   "execution_count": 6,
   "metadata": {},
   "outputs": [
    {
     "data": {
      "text/html": [
       "<div>\n",
       "<style scoped>\n",
       "    .dataframe tbody tr th:only-of-type {\n",
       "        vertical-align: middle;\n",
       "    }\n",
       "\n",
       "    .dataframe tbody tr th {\n",
       "        vertical-align: top;\n",
       "    }\n",
       "\n",
       "    .dataframe thead th {\n",
       "        text-align: right;\n",
       "    }\n",
       "</style>\n",
       "<table border=\"1\" class=\"dataframe\">\n",
       "  <thead>\n",
       "    <tr style=\"text-align: right;\">\n",
       "      <th></th>\n",
       "      <th>series_name</th>\n",
       "      <th>country_id</th>\n",
       "      <th>value_start</th>\n",
       "      <th>year</th>\n",
       "    </tr>\n",
       "  </thead>\n",
       "  <tbody>\n",
       "    <tr>\n",
       "      <th>0</th>\n",
       "      <td>Health</td>\n",
       "      <td>0</td>\n",
       "      <td>100</td>\n",
       "      <td>2017</td>\n",
       "    </tr>\n",
       "    <tr>\n",
       "      <th>1</th>\n",
       "      <td>Education</td>\n",
       "      <td>0</td>\n",
       "      <td>140</td>\n",
       "      <td>2017</td>\n",
       "    </tr>\n",
       "    <tr>\n",
       "      <th>2</th>\n",
       "      <td>Gender</td>\n",
       "      <td>0</td>\n",
       "      <td>350</td>\n",
       "      <td>2017</td>\n",
       "    </tr>\n",
       "    <tr>\n",
       "      <th>3</th>\n",
       "      <td>Macro</td>\n",
       "      <td>0</td>\n",
       "      <td>400</td>\n",
       "      <td>2017</td>\n",
       "    </tr>\n",
       "    <tr>\n",
       "      <th>4</th>\n",
       "      <td>Finance</td>\n",
       "      <td>0</td>\n",
       "      <td>203</td>\n",
       "      <td>2017</td>\n",
       "    </tr>\n",
       "  </tbody>\n",
       "</table>\n",
       "</div>"
      ],
      "text/plain": [
       "  series_name  country_id  value_start  year\n",
       "0      Health           0          100  2017\n",
       "1   Education           0          140  2017\n",
       "2      Gender           0          350  2017\n",
       "3       Macro           0          400  2017\n",
       "4     Finance           0          203  2017"
      ]
     },
     "execution_count": 6,
     "metadata": {},
     "output_type": "execute_result"
    }
   ],
   "source": [
    "df_plot.head()"
   ]
  },
  {
   "cell_type": "markdown",
   "metadata": {},
   "source": [
    "## Generate Bokeh Visual- Pie Chart "
   ]
  },
  {
   "cell_type": "code",
   "execution_count": 75,
   "metadata": {},
   "outputs": [],
   "source": [
    "## add new imports \n",
    "from collections import Counter\n",
    "from math import pi\n",
    "from bokeh.transform import cumsum\n",
    "\n",
    "\n",
    "\n",
    "def gen_counter(data, key_var, value_var, agg_option='sum'): \n",
    "    '''Define function to generate dictionary for Counter in the pie chart. \n",
    "    the function takes a data source with two columns - the column which will \n",
    "    be the keys of the Counter dictionary and the value_var which will be the \n",
    "    values as standalone floats. \n",
    "    \n",
    "    *** choose the aggregation option if the key_var is not unique: options are to \n",
    "    sum the values or average the values.'''\n",
    "    \n",
    "    # generate the counts dataset using the groupby() function and .sum() if 'sum'\n",
    "    if agg_option =='sum':\n",
    "        counts = data.groupby(key_var).sum().reset_index()\n",
    "    elif agg_option =='mean':\n",
    "        counts = data.groupby(key_var).mean().reset_index()\n",
    "        counts[value_var] = np.round(counts[value_var], 1)\n",
    "    else: \n",
    "        print('Invalid agg_options value.')\n",
    "    \n",
    "    \n",
    "    # generate numpy array of values for keys and values variables \n",
    "    keys = counts[key_var].values\n",
    "    values = counts[value_var].values\n",
    "    \n",
    "    # use dict comprehension to generate counter dict \n",
    "    counter_dict = {keys[i]: values[i] for i in range(0,len(keys))}\n",
    "    \n",
    "    \n",
    "    return counter_dict\n",
    "\n",
    "\n",
    "def gen_pie(data, cat_sel = [], obs_sel = [],  category_var_name='series_name', \n",
    "            obs_var_name='country_id', value_var_name='value_start', \n",
    "           agg_option='sum', title_text='Pie Chart'): \n",
    "    '''Generate a pie chart given a data selection, cat_sel refers to the categories \n",
    "    which will be divided within the pie chart (the colors of the pie), value_var_name\n",
    "    is the column which will determine the proportion of the pie. obs_sel will determine\n",
    "    the country or region observations selected (these will be averaged or summed \n",
    "    dependending of the agg_option selection). The plot returns a pie chart.'''\n",
    "    \n",
    "    ##################################\n",
    "    ##### generate the underlying data\n",
    "    ##################################\n",
    "    \n",
    "    # select the categories and observations of interest\n",
    "    data = data[data[category_var_name].isin(cat_sel) &\n",
    "               data[obs_var_name].isin(obs_sel)]\n",
    "    \n",
    "    # generate the counter dictionary\n",
    "    counter_dict = gen_counter(data, category_var_name, value_var_name, agg_option)\n",
    "    \n",
    "    # use the counter function to generate x for the plot\n",
    "    x = Counter(counter_dict)\n",
    "     \n",
    "    # place 'x' into a dataframe called data (replace the old data for efficiency)\n",
    "    data = pd.DataFrame.from_dict(dict(x), orient='index').reset_index().rename(index=str, columns={0:'value', 'index':'category'})\n",
    "    \n",
    "    # generate the angle of each slice\n",
    "    data['angle'] = data['value']/sum(x.values()) * 2*pi\n",
    "    \n",
    "    # add colors based on USAID color scheme         \n",
    "    palette = {'USAID Blue': '#002F6C', 'USAID Red': '#BA0C2F', 'Rich Black': '#212721', 'Medium Blue': '#0067B9',\n",
    "        'Light Blue': '#A7C6ED', 'Dark Red': '#651D32', 'Dark Gray': '#6C6463', 'Medium Gray': '#8C8985', 'Light Gray': '#CFCDC9'}\n",
    "    # select colors based on the length of \n",
    "    #### decide whether this should fail or not if there are missing values in the cat_sel \n",
    "    #### this will fail in its curren state (address later...)\n",
    "    data['color'] = [palette[i] for i in list(palette.keys())[0:len(category_selection)]]\n",
    "    \n",
    "       \n",
    "    ####################################\n",
    "    ###### Generate the plot \n",
    "    ####################################\n",
    "    \n",
    "    # generate figure with simple tooltip (need to add style later)\n",
    "    p = figure(plot_height=350, title=title_text, toolbar_location=None,\n",
    "               tools=\"hover\", tooltips=\"@category: @value{0.0}\")\n",
    "    \n",
    "    # generate the wedges for the pie chart. \n",
    "    p.wedge(x=0, y=1, radius=0.4,\n",
    "            start_angle=cumsum('angle', include_zero=True), end_angle=cumsum('angle'),\n",
    "            line_color=\"white\", line_width=3,\n",
    "            fill_color='color', fill_alpha=0.9,legend='category', source=data)\n",
    "    \n",
    "    # basic formatting of the chart. \n",
    "    p.axis.axis_label=None\n",
    "    p.axis.visible=False\n",
    "    p.grid.grid_line_color = None\n",
    "\n",
    "    \n",
    "    return p\n"
   ]
  },
  {
   "cell_type": "code",
   "execution_count": 29,
   "metadata": {},
   "outputs": [],
   "source": [
    "category_selection = ['Conflict', 'Democracy', 'Education', 'Finance', 'Gender',\n",
    "       'Health', 'Macro', 'PSD', 'Taxation']\n",
    "\n",
    "country_selection = [0,1,2]"
   ]
  },
  {
   "cell_type": "code",
   "execution_count": 77,
   "metadata": {},
   "outputs": [
    {
     "data": {
      "text/html": [
       "\n",
       "\n",
       "\n",
       "\n",
       "\n",
       "\n",
       "  <div class=\"bk-root\" id=\"2307b453-2872-42d3-9d51-e93e084204f5\"></div>\n"
      ]
     },
     "metadata": {},
     "output_type": "display_data"
    },
    {
     "data": {
      "application/javascript": [
       "(function(root) {\n",
       "  function embed_document(root) {\n",
       "    \n",
       "  var docs_json = {\"89e08cf0-0625-430e-afae-caa6e9868323\":{\"roots\":{\"references\":[{\"attributes\":{},\"id\":\"7a73f851-60e4-421b-a962-e38089a4323b\",\"type\":\"LinearScale\"},{\"attributes\":{\"end_angle\":{\"expr\":{\"id\":\"04b75e95-8228-4e8a-b1b2-b71af8d2ac2a\",\"type\":\"CumSum\"},\"units\":\"rad\"},\"fill_alpha\":{\"value\":0.1},\"fill_color\":{\"value\":\"#1f77b4\"},\"line_alpha\":{\"value\":0.1},\"line_color\":{\"value\":\"#1f77b4\"},\"line_width\":{\"value\":3},\"radius\":{\"units\":\"data\",\"value\":0.4},\"start_angle\":{\"expr\":{\"id\":\"fc3588a6-f052-4509-aab2-d7ec483cadd6\",\"type\":\"CumSum\"},\"units\":\"rad\"},\"x\":{\"value\":0},\"y\":{\"value\":1}},\"id\":\"257ace0f-c41b-4481-8b89-bc1b930d11c0\",\"type\":\"Wedge\"},{\"attributes\":{},\"id\":\"e1d68a22-2d82-47a4-8344-13ff2098bfda\",\"type\":\"LinearScale\"},{\"attributes\":{\"field\":\"angle\",\"include_zero\":true},\"id\":\"fc3588a6-f052-4509-aab2-d7ec483cadd6\",\"type\":\"CumSum\"},{\"attributes\":{\"end_angle\":{\"expr\":{\"id\":\"04b75e95-8228-4e8a-b1b2-b71af8d2ac2a\",\"type\":\"CumSum\"},\"units\":\"rad\"},\"fill_alpha\":{\"value\":0.9},\"fill_color\":{\"field\":\"color\"},\"line_color\":{\"value\":\"white\"},\"line_width\":{\"value\":3},\"radius\":{\"units\":\"data\",\"value\":0.4},\"start_angle\":{\"expr\":{\"id\":\"fc3588a6-f052-4509-aab2-d7ec483cadd6\",\"type\":\"CumSum\"},\"units\":\"rad\"},\"x\":{\"value\":0},\"y\":{\"value\":1}},\"id\":\"9c75e9d1-f079-40d4-9647-2243880ed76a\",\"type\":\"Wedge\"},{\"attributes\":{\"callback\":null},\"id\":\"9349f9f1-1d30-43d8-aa40-5292a4009042\",\"type\":\"DataRange1d\"},{\"attributes\":{\"plot\":null,\"text\":\"Type of Funding: Countries 1,2,3\"},\"id\":\"273f7e7a-bbd1-4cbd-8d64-0e0c820d2cc3\",\"type\":\"Title\"},{\"attributes\":{\"label\":{\"field\":\"category\"},\"renderers\":[{\"id\":\"486f8474-9fb2-4fde-ae30-009a328f8eb2\",\"type\":\"GlyphRenderer\"}]},\"id\":\"031206d9-3ac6-4cc1-9d32-a346b613ce59\",\"type\":\"LegendItem\"},{\"attributes\":{},\"id\":\"e920b88f-dfe3-4252-a5d8-525d43d5756f\",\"type\":\"UnionRenderers\"},{\"attributes\":{\"axis_label\":null,\"formatter\":{\"id\":\"4e329fd1-cab1-4c3b-902e-ba848c588b19\",\"type\":\"BasicTickFormatter\"},\"plot\":{\"id\":\"b0a27876-bcc2-423d-9539-ca0aee5d46a5\",\"subtype\":\"Figure\",\"type\":\"Plot\"},\"ticker\":{\"id\":\"ad6617e9-c4a7-481d-8cbb-1e29dabffea0\",\"type\":\"BasicTicker\"},\"visible\":false},\"id\":\"7f60d0d2-1897-4ed6-9788-129ab35468ec\",\"type\":\"LinearAxis\"},{\"attributes\":{\"below\":[{\"id\":\"ba0ceddc-fe2e-4ae8-9b3d-f11d4dfb894f\",\"type\":\"LinearAxis\"}],\"left\":[{\"id\":\"7f60d0d2-1897-4ed6-9788-129ab35468ec\",\"type\":\"LinearAxis\"}],\"plot_height\":350,\"renderers\":[{\"id\":\"ba0ceddc-fe2e-4ae8-9b3d-f11d4dfb894f\",\"type\":\"LinearAxis\"},{\"id\":\"b9188850-8bdc-4cfb-8562-7a16b8c1e3f7\",\"type\":\"Grid\"},{\"id\":\"7f60d0d2-1897-4ed6-9788-129ab35468ec\",\"type\":\"LinearAxis\"},{\"id\":\"b24718a4-f575-404c-89c0-5f02916801ad\",\"type\":\"Grid\"},{\"id\":\"ffc4b95b-769a-4ef7-969a-6f0c8df9665f\",\"type\":\"Legend\"},{\"id\":\"486f8474-9fb2-4fde-ae30-009a328f8eb2\",\"type\":\"GlyphRenderer\"}],\"title\":{\"id\":\"273f7e7a-bbd1-4cbd-8d64-0e0c820d2cc3\",\"type\":\"Title\"},\"toolbar\":{\"id\":\"015866fe-ba29-4ed9-8da1-9989d7186241\",\"type\":\"Toolbar\"},\"toolbar_location\":null,\"x_range\":{\"id\":\"fc857910-30eb-44f6-8041-b5342f029950\",\"type\":\"DataRange1d\"},\"x_scale\":{\"id\":\"7a73f851-60e4-421b-a962-e38089a4323b\",\"type\":\"LinearScale\"},\"y_range\":{\"id\":\"9349f9f1-1d30-43d8-aa40-5292a4009042\",\"type\":\"DataRange1d\"},\"y_scale\":{\"id\":\"e1d68a22-2d82-47a4-8344-13ff2098bfda\",\"type\":\"LinearScale\"}},\"id\":\"b0a27876-bcc2-423d-9539-ca0aee5d46a5\",\"subtype\":\"Figure\",\"type\":\"Plot\"},{\"attributes\":{\"callback\":null},\"id\":\"fc857910-30eb-44f6-8041-b5342f029950\",\"type\":\"DataRange1d\"},{\"attributes\":{},\"id\":\"93b74a1b-cfe7-423e-8495-a33aa3738fba\",\"type\":\"Selection\"},{\"attributes\":{\"grid_line_color\":{\"value\":null},\"plot\":{\"id\":\"b0a27876-bcc2-423d-9539-ca0aee5d46a5\",\"subtype\":\"Figure\",\"type\":\"Plot\"},\"ticker\":{\"id\":\"720dec98-e59c-4c7e-ab1c-68063cc1f0f8\",\"type\":\"BasicTicker\"}},\"id\":\"b9188850-8bdc-4cfb-8562-7a16b8c1e3f7\",\"type\":\"Grid\"},{\"attributes\":{\"source\":{\"id\":\"7c7f5667-8713-4908-a166-f3890016e88a\",\"type\":\"ColumnDataSource\"}},\"id\":\"2e1a2676-236a-4f4a-9e7c-300ff762fba3\",\"type\":\"CDSView\"},{\"attributes\":{},\"id\":\"720dec98-e59c-4c7e-ab1c-68063cc1f0f8\",\"type\":\"BasicTicker\"},{\"attributes\":{\"callback\":null,\"renderers\":\"auto\",\"tooltips\":\"@category: @value{0.0}\"},\"id\":\"9561a695-1fdf-433e-ad12-2d6785031a5c\",\"type\":\"HoverTool\"},{\"attributes\":{\"axis_label\":null,\"formatter\":{\"id\":\"2f24a1cc-d811-40da-827d-5ac0fdd36682\",\"type\":\"BasicTickFormatter\"},\"plot\":{\"id\":\"b0a27876-bcc2-423d-9539-ca0aee5d46a5\",\"subtype\":\"Figure\",\"type\":\"Plot\"},\"ticker\":{\"id\":\"720dec98-e59c-4c7e-ab1c-68063cc1f0f8\",\"type\":\"BasicTicker\"},\"visible\":false},\"id\":\"ba0ceddc-fe2e-4ae8-9b3d-f11d4dfb894f\",\"type\":\"LinearAxis\"},{\"attributes\":{},\"id\":\"4e329fd1-cab1-4c3b-902e-ba848c588b19\",\"type\":\"BasicTickFormatter\"},{\"attributes\":{\"field\":\"angle\"},\"id\":\"04b75e95-8228-4e8a-b1b2-b71af8d2ac2a\",\"type\":\"CumSum\"},{\"attributes\":{\"items\":[{\"id\":\"031206d9-3ac6-4cc1-9d32-a346b613ce59\",\"type\":\"LegendItem\"}],\"plot\":{\"id\":\"b0a27876-bcc2-423d-9539-ca0aee5d46a5\",\"subtype\":\"Figure\",\"type\":\"Plot\"}},\"id\":\"ffc4b95b-769a-4ef7-969a-6f0c8df9665f\",\"type\":\"Legend\"},{\"attributes\":{\"dimension\":1,\"grid_line_color\":{\"value\":null},\"plot\":{\"id\":\"b0a27876-bcc2-423d-9539-ca0aee5d46a5\",\"subtype\":\"Figure\",\"type\":\"Plot\"},\"ticker\":{\"id\":\"ad6617e9-c4a7-481d-8cbb-1e29dabffea0\",\"type\":\"BasicTicker\"}},\"id\":\"b24718a4-f575-404c-89c0-5f02916801ad\",\"type\":\"Grid\"},{\"attributes\":{},\"id\":\"ad6617e9-c4a7-481d-8cbb-1e29dabffea0\",\"type\":\"BasicTicker\"},{\"attributes\":{\"data_source\":{\"id\":\"7c7f5667-8713-4908-a166-f3890016e88a\",\"type\":\"ColumnDataSource\"},\"glyph\":{\"id\":\"9c75e9d1-f079-40d4-9647-2243880ed76a\",\"type\":\"Wedge\"},\"hover_glyph\":null,\"muted_glyph\":null,\"nonselection_glyph\":{\"id\":\"257ace0f-c41b-4481-8b89-bc1b930d11c0\",\"type\":\"Wedge\"},\"selection_glyph\":null,\"view\":{\"id\":\"2e1a2676-236a-4f4a-9e7c-300ff762fba3\",\"type\":\"CDSView\"}},\"id\":\"486f8474-9fb2-4fde-ae30-009a328f8eb2\",\"type\":\"GlyphRenderer\"},{\"attributes\":{},\"id\":\"2f24a1cc-d811-40da-827d-5ac0fdd36682\",\"type\":\"BasicTickFormatter\"},{\"attributes\":{\"callback\":null,\"data\":{\"angle\":{\"__ndarray__\":\"eg8kH5+H7T9MTF+5yEHmP5YQoUdxjeM/j+YARl1s2j+YVJJRmZLnP8pwGMIhbt8/3gME37dN6D9ViwrTNt/sP+xsT/o5DOg/\",\"dtype\":\"float64\",\"shape\":[9]},\"category\":[\"Conflict\",\"Democracy\",\"Education\",\"Finance\",\"Gender\",\"Health\",\"Macro\",\"PSD\",\"Taxation\"],\"color\":[\"#002F6C\",\"#BA0C2F\",\"#212721\",\"#0067B9\",\"#A7C6ED\",\"#651D32\",\"#6C6463\",\"#8C8985\",\"#CFCDC9\"],\"index\":[\"0\",\"1\",\"2\",\"3\",\"4\",\"5\",\"6\",\"7\",\"8\"],\"value\":[1616,1218,1070,723,1290,860,1330,1580,1316]},\"selected\":{\"id\":\"93b74a1b-cfe7-423e-8495-a33aa3738fba\",\"type\":\"Selection\"},\"selection_policy\":{\"id\":\"e920b88f-dfe3-4252-a5d8-525d43d5756f\",\"type\":\"UnionRenderers\"}},\"id\":\"7c7f5667-8713-4908-a166-f3890016e88a\",\"type\":\"ColumnDataSource\"},{\"attributes\":{\"active_drag\":\"auto\",\"active_inspect\":\"auto\",\"active_multi\":null,\"active_scroll\":\"auto\",\"active_tap\":\"auto\",\"tools\":[{\"id\":\"9561a695-1fdf-433e-ad12-2d6785031a5c\",\"type\":\"HoverTool\"}]},\"id\":\"015866fe-ba29-4ed9-8da1-9989d7186241\",\"type\":\"Toolbar\"}],\"root_ids\":[\"b0a27876-bcc2-423d-9539-ca0aee5d46a5\"]},\"title\":\"Bokeh Application\",\"version\":\"0.13.0\"}};\n",
       "  var render_items = [{\"docid\":\"89e08cf0-0625-430e-afae-caa6e9868323\",\"roots\":{\"b0a27876-bcc2-423d-9539-ca0aee5d46a5\":\"2307b453-2872-42d3-9d51-e93e084204f5\"}}];\n",
       "  root.Bokeh.embed.embed_items_notebook(docs_json, render_items);\n",
       "\n",
       "  }\n",
       "  if (root.Bokeh !== undefined) {\n",
       "    embed_document(root);\n",
       "  } else {\n",
       "    var attempts = 0;\n",
       "    var timer = setInterval(function(root) {\n",
       "      if (root.Bokeh !== undefined) {\n",
       "        embed_document(root);\n",
       "        clearInterval(timer);\n",
       "      }\n",
       "      attempts++;\n",
       "      if (attempts > 100) {\n",
       "        console.log(\"Bokeh: ERROR: Unable to run BokehJS code because BokehJS library is missing\")\n",
       "        clearInterval(timer);\n",
       "      }\n",
       "    }, 10, root)\n",
       "  }\n",
       "})(window);"
      ],
      "application/vnd.bokehjs_exec.v0+json": ""
     },
     "metadata": {
      "application/vnd.bokehjs_exec.v0+json": {
       "id": "b0a27876-bcc2-423d-9539-ca0aee5d46a5"
      }
     },
     "output_type": "display_data"
    }
   ],
   "source": [
    "plot = gen_pie(data=df_plot, cat_sel=category_selection, obs_sel=country_selection, \n",
    "        agg_option='sum', title_text = 'Type of Funding: Countries 1,2,3')\n",
    "\n",
    "show(plot)"
   ]
  }
 ],
 "metadata": {
  "kernelspec": {
   "display_name": "Python 3",
   "language": "python",
   "name": "python3"
  },
  "language_info": {
   "codemirror_mode": {
    "name": "ipython",
    "version": 3
   },
   "file_extension": ".py",
   "mimetype": "text/x-python",
   "name": "python",
   "nbconvert_exporter": "python",
   "pygments_lexer": "ipython3",
   "version": "3.6.5"
  }
 },
 "nbformat": 4,
 "nbformat_minor": 2
}
